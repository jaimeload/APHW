{
  "nbformat": 4,
  "nbformat_minor": 0,
  "metadata": {
    "colab": {
      "provenance": [],
      "authorship_tag": "ABX9TyNl0+K/y5GVoWdW6u6pp4Vk",
      "include_colab_link": true
    },
    "kernelspec": {
      "name": "python3",
      "display_name": "Python 3"
    },
    "language_info": {
      "name": "python"
    }
  },
  "cells": [
    {
      "cell_type": "markdown",
      "metadata": {
        "id": "view-in-github",
        "colab_type": "text"
      },
      "source": [
        "<a href=\"https://colab.research.google.com/github/jaimeload/APHW/blob/main/HW1.ipynb\" target=\"_parent\"><img src=\"https://colab.research.google.com/assets/colab-badge.svg\" alt=\"Open In Colab\"/></a>"
      ]
    },
    {
      "cell_type": "markdown",
      "source": [
        "##Домашнее задание 1\n",
        "Оформляйте ноутбук, используя эти советы:\n",
        "Номер задачи - заголовок 2\n",
        "Номер подзадачи - заголовок 3\n",
        "Предоставленные наборы данных оформляйте, как код\n",
        "```\n",
        "code\n",
        "```\n"
      ],
      "metadata": {
        "id": "Mc3Tm_IIdcN8"
      }
    },
    {
      "cell_type": "markdown",
      "source": [
        "##Домашнее задание 2\n",
        "На складе лежат разные фрукты в разном количестве.\n",
        "Нужно написать функцию, которая на вход принимает любое количество названий фруктов и их количество, а возвращает общее количество фруктов на складе"
      ],
      "metadata": {
        "id": "booVmWBAtCZ5"
      }
    },
    {
      "cell_type": "code",
      "source": [
        "def total_fruits(**fruits):\n",
        "    total = 0\n",
        "    for q in fruits.values():\n",
        "        total += q\n",
        "    return total\n",
        "total_fruits(banana = 5, mango = 7, apple = 8)"
      ],
      "metadata": {
        "colab": {
          "base_uri": "https://localhost:8080/"
        },
        "id": "zDK9QvVOtgKe",
        "outputId": "0ab59c23-67ec-49af-b89f-b5f75b891279"
      },
      "execution_count": null,
      "outputs": [
        {
          "output_type": "execute_result",
          "data": {
            "text/plain": [
              "20"
            ]
          },
          "metadata": {},
          "execution_count": 9
        }
      ]
    },
    {
      "cell_type": "markdown",
      "source": [],
      "metadata": {
        "id": "7ObHErgh496C"
      }
    },
    {
      "cell_type": "markdown",
      "source": [
        "##Домашнее задание 3\n",
        "Дан список с затратами на рекламу. Но в данных есть ошибки, некоторые затраты имеют отрицательную величину. Удалите такие значения из списка и посчитайте суммарные затраты\n",
        "```\n",
        "[100, 125, -90, 345, 655, -1, 0, 200]\n",
        "```\n",
        "Используйте list comprehensions"
      ],
      "metadata": {
        "id": "4-avzplr4xXl"
      }
    },
    {
      "cell_type": "code",
      "source": [
        "spending = [100, 125, -90, 345, 655, -1, 0, 200]\n",
        "sum(cost for cost in spending if cost > 0)"
      ],
      "metadata": {
        "colab": {
          "base_uri": "https://localhost:8080/"
        },
        "id": "EyqWRFYS4_Xq",
        "outputId": "be033226-605a-4839-89e1-775b00fb5a8e"
      },
      "execution_count": null,
      "outputs": [
        {
          "output_type": "execute_result",
          "data": {
            "text/plain": [
              "1425"
            ]
          },
          "metadata": {},
          "execution_count": 8
        }
      ]
    },
    {
      "cell_type": "markdown",
      "source": [
        "##Домашнее задание 4\n",
        "Даны два списка.\n",
        "\n",
        "Дата покупки\n",
        "```\n",
        "['2021-09-14', '2021-12-15', '2021-09-08', '2021-12-05', '2021-10-09', '2021-09-30', '2021-12-22', '2021-11-29', '2021-12-24', '2021-11-26', '2021-10-27', '2021-12-18', '2021-11-09', '2021-11-23', '2021-09-27', '2021-10-02', '2021-12-27', '2021-09-20', '2021-12-13', '2021-11-01', '2021-11-09', '2021-12-06', '2021-12-08', '2021-10-09', '2021-10-31', '2021-09-30', '2021-11-09', '2021-12-13', '2021-10-26', '2021-12-09']\n",
        "```\n",
        "Суммы покупок по датам\n",
        "```\n",
        "[1270, 8413, 9028, 3703, 5739, 4095, 295, 4944, 5723, 3701, 4471, 651, 7037, 4274, 6275, 4988, 6930, 2971, 6592, 2004, 2822, 519, 3406, 2732, 5015, 2008, 316, 6333, 5700, 2887]\n",
        "```\n",
        "###4.1 Найдите, какая выручка у компании в ноябре\n",
        "Используйте list comprehensions"
      ],
      "metadata": {
        "id": "6QXYQmyPcOG9"
      }
    },
    {
      "cell_type": "code",
      "source": [
        "dates = ['2021-09-14', '2021-12-15', '2021-09-08', '2021-12-05', '2021-10-09', '2021-09-30', '2021-12-22', '2021-11-29', '2021-12-24', '2021-11-26', '2021-10-27', '2021-12-18', '2021-11-09', '2021-11-23', '2021-09-27', '2021-10-02', '2021-12-27', '2021-09-20', '2021-12-13', '2021-11-01', '2021-11-09', '2021-12-06', '2021-12-08', '2021-10-09', '2021-10-31', '2021-09-30', '2021-11-09', '2021-12-13', '2021-10-26', '2021-12-09']\n",
        "costs = [1270, 8413, 9028, 3703, 5739, 4095, 295, 4944, 5723, 3701, 4471, 651, 7037, 4274, 6275, 4988, 6930, 2971, 6592, 2004, 2822, 519, 3406, 2732, 5015, 2008, 316, 6333, 5700, 2887]\n",
        "sum([cost for date, cost in zip(dates, costs) if date[5:7] == \"11\"])"
      ],
      "metadata": {
        "colab": {
          "base_uri": "https://localhost:8080/"
        },
        "id": "2sGNuqyKdFYQ",
        "outputId": "f15160d5-2ca0-4465-bc00-5b4085799ab5"
      },
      "execution_count": 2,
      "outputs": [
        {
          "output_type": "execute_result",
          "data": {
            "text/plain": [
              "25098"
            ]
          },
          "metadata": {},
          "execution_count": 2
        }
      ]
    },
    {
      "cell_type": "markdown",
      "source": [
        "###4.2 Найдите выручку компании в зависимости от месяца\n",
        "Для этого напишите функцию, которая на вход принимает список с датами и список с выручкой, а на выходе словарь, где ключи - это месяцы, а значения - это выручка.\n",
        "Используйте аннотирование типов.\n"
      ],
      "metadata": {
        "id": "NuC1ALvEdDwV"
      }
    },
    {
      "cell_type": "code",
      "source": [
        "def revenue_per_month(dates: list, costs: list) -> dict:\n",
        "    revenue = dict()\n",
        "    enum_dates = enumerate(dates)\n",
        "    for (i, date) in enum_dates:\n",
        "        month = date[5:7]\n",
        "        if month in revenue:\n",
        "            revenue[month] += costs[i]\n",
        "        else:\n",
        "            revenue[month] = costs[i]\n",
        "    return revenue\n",
        "\n",
        "revenue_per_month(dates, costs)"
      ],
      "metadata": {
        "id": "XtqXxSAWdOhl",
        "colab": {
          "base_uri": "https://localhost:8080/"
        },
        "outputId": "2a87ab3a-a43e-4404-ddec-1d0414e98ed6"
      },
      "execution_count": 8,
      "outputs": [
        {
          "output_type": "execute_result",
          "data": {
            "text/plain": [
              "{'09': 25647, '12': 45452, '10': 28645, '11': 25098}"
            ]
          },
          "metadata": {},
          "execution_count": 8
        }
      ]
    }
  ]
}